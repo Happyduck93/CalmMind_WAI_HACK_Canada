{
  "nbformat": 4,
  "nbformat_minor": 0,
  "metadata": {
    "colab": {
      "provenance": [],
      "authorship_tag": "ABX9TyMBk8EsMT1mHFOa6ISKXvf9",
      "include_colab_link": true
    },
    "kernelspec": {
      "name": "python3",
      "display_name": "Python 3"
    },
    "language_info": {
      "name": "python"
    }
  },
  "cells": [
    {
      "cell_type": "markdown",
      "metadata": {
        "id": "view-in-github",
        "colab_type": "text"
      },
      "source": [
        "<a href=\"https://colab.research.google.com/github/suinkangme/CalmMind/blob/main/CalmMind.ipynb\" target=\"_parent\"><img src=\"https://colab.research.google.com/assets/colab-badge.svg\" alt=\"Open In Colab\"/></a>"
      ]
    },
    {
      "cell_type": "markdown",
      "source": [
        "# CalmMind - Your Daily Dose of Mental Wellness\n",
        "\n",
        "- WomenAI Hackathon"
      ],
      "metadata": {
        "id": "Gc94xNXFoZmR"
      }
    },
    {
      "cell_type": "code",
      "source": [],
      "metadata": {
        "id": "Zh05QMqGobnF"
      },
      "execution_count": null,
      "outputs": []
    }
  ]
}